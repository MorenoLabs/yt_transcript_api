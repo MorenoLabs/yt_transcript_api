{
 "cells": [
  {
   "cell_type": "code",
   "execution_count": 15,
   "metadata": {},
   "outputs": [],
   "source": [
    "from fastapi import FastAPI, Depends, HTTPException\n",
    "from pydantic import BaseModel\n",
    "from youtube_transcript_api import YouTubeTranscriptApi\n",
    "from youtube_transcript_api.formatters import TextFormatter\n",
    "import logging\n",
    "\n",
    "app = FastAPI()\n",
    "\n",
    "class TranscribeRequest(BaseModel):\n",
    "    video_url: str\n",
    "    api_key: str\n",
    "\n",
    "def verify_api_key(request: TranscribeRequest):\n",
    "    if request.api_key != \"test\":  # Replace with your actual API key\n",
    "        raise HTTPException(status_code=403, detail=\"Invalid API Key\")\n",
    "\n",
    "@app.get(\"/\")\n",
    "async def read_root():\n",
    "    return {\"message\": \"FastAPI is running\"}\n",
    "\n",
    "@app.post(\"/transcribe\")\n",
    "async def get_videoid(request: TranscribeRequest, verified: None = Depends(verify_api_key)):\n",
    "    video_id = request.video_url.split(\"v=\")[1]\n",
    "    return await root(video_id)\n",
    "\n",
    "async def root(video_id: str):\n",
    "    transcript = YouTubeTranscriptApi.get_transcript(video_id)\n",
    "    logging.info(f\"Transcript for video ID {video_id}: {transcript}\")\n",
    "    formatter = TextFormatter()\n",
    "    text_formatted = formatter.format_transcript(transcript)\n",
    "    return {\"transcript\": text_formatted}"
   ]
  },
  {
   "cell_type": "code",
   "execution_count": 4,
   "metadata": {},
   "outputs": [],
   "source": [
    "import os\n",
    "from dotenv import load_dotenv\n",
    "load_dotenv()\n",
    "from pyairtable import Api\n",
    "api = Api(os.environ['AIRTABLE_TOKEN'])\n",
    "table = api.table('appyl62z9rlWyAxMh', 'tblpc6rPUfZTlEcyE')"
   ]
  },
  {
   "cell_type": "code",
   "execution_count": 6,
   "metadata": {},
   "outputs": [
    {
     "name": "stdout",
     "output_type": "stream",
     "text": [
      "{'id': 'recOiu9VOdy8qGv1C', 'createdTime': '2024-07-26T07:27:37.000Z', 'fields': {'Name': 'Dirk Moreno', 'x-api-key': '5iqcnhqx4snag8fxswa4q7jjc0xkgc', 'Active': True}}\n"
     ]
    }
   ],
   "source": [
    "def get_active_records_with_api_key(api_key_value):\n",
    "    try:\n",
    "        # Fetch all records from the table\n",
    "        all_records = table.all()\n",
    "        \n",
    "        # Filter records where 'Active' is True and 'x-api-key' matches the specific value\n",
    "        filtered_records = [\n",
    "            record for record in all_records\n",
    "            if record['fields'].get('Active') and record['fields'].get('x-api-key') == api_key_value\n",
    "        ]\n",
    "        \n",
    "        return filtered_records\n",
    "\n",
    "    except Exception as e:\n",
    "        print(f\"An error occurred: {e}\")\n",
    "        return []\n",
    "\n",
    "# Example usage\n",
    "specific_api_key = '5iqcnhqx4snag8fxswa4q7jjc0xkgc'\n",
    "filtered_records = get_active_records_with_api_key(specific_api_key)\n",
    "\n",
    "# Print the filtered records\n",
    "for record in filtered_records:\n",
    "    print(record)"
   ]
  },
  {
   "cell_type": "code",
   "execution_count": 7,
   "metadata": {},
   "outputs": [
    {
     "name": "stdout",
     "output_type": "stream",
     "text": [
      "Ticket created with ID: 500Qy00000GssILIAZ\n"
     ]
    }
   ],
   "source": [
    "from simple_salesforce import Salesforce\n",
    "\n",
    "# Authenticate to Salesforce\n",
    "sf = Salesforce(\n",
    "    username='dirk@morenolabs.sandbox',\n",
    "    password='MakeTradingGreatAgain73!',\n",
    "    security_token='OSmhaZdm1XbgWTdextnZZCNVm'\n",
    ")\n",
    "\n",
    "# Define the new ticket (case) details\n",
    "new_ticket = {\n",
    "    'Subject': 'New Support Ticket',\n",
    "    'Description': 'Description of the support issue',\n",
    "    'Status': 'New',\n",
    "    'Priority': 'High',\n",
    "    'Origin': 'Web'\n",
    "}\n",
    "\n",
    "# Create the ticket\n",
    "result = sf.Case.create(new_ticket)\n",
    "\n",
    "print(\"Ticket created with ID:\", result['id'])\n"
   ]
  },
  {
   "cell_type": "code",
   "execution_count": 9,
   "metadata": {},
   "outputs": [
    {
     "name": "stdout",
     "output_type": "stream",
     "text": [
      "Customer created with ID: 003Qy000006VmXxIAK\n"
     ]
    }
   ],
   "source": [
    "new_customer = {\n",
    "    'FirstName': 'John',\n",
    "    'LastName': 'Doe',\n",
    "    'Email': 'john.doe@example.com',\n",
    "    'Phone': '123-456-7890'\n",
    "}\n",
    "\n",
    "# Create the customer\n",
    "result = sf.Contact.create(new_customer)\n",
    "\n",
    "print(\"Customer created with ID:\", result['id'])"
   ]
  },
  {
   "cell_type": "code",
   "execution_count": 13,
   "metadata": {},
   "outputs": [
    {
     "name": "stdout",
     "output_type": "stream",
     "text": [
      "Account created with ID: 001Qy00000Q3egJIAR\n",
      "Contact created with ID: 003Qy000006VnozIAC\n",
      "Ticket created with ID: 500Qy00000GsvOHIAZ\n"
     ]
    }
   ],
   "source": [
    "# Step 1: Create a new account (if needed)\n",
    "new_account = {\n",
    "    'Name': 'Doe Inc.'\n",
    "}\n",
    "account_result = sf.Account.create(new_account)\n",
    "account_id = account_result['id']\n",
    "print(\"Account created with ID:\", account_id)\n",
    "\n",
    "# Step 2: Attempt to create a new contact\n",
    "new_contact = {\n",
    "    'FirstName': 'John',\n",
    "    'LastName': 'Doe1',\n",
    "    'Email': 'john.doe@example.com',\n",
    "    'Phone': '123-456-7890',\n",
    "    'AccountId': account_id\n",
    "}\n",
    "\n",
    "try:\n",
    "    contact_result = sf.Contact.create(new_contact)\n",
    "    contact_id = contact_result['id']\n",
    "    print(\"Contact created with ID:\", contact_id)\n",
    "except SalesforceMalformedRequest as e:\n",
    "    error_content = e.content\n",
    "    if error_content[0]['errorCode'] == 'DUPLICATES_DETECTED':\n",
    "        # Extract the existing contact ID from the error message\n",
    "        existing_contact_id = error_content[0]['duplicateResult']['matchResults'][0]['matchRecords'][0]['record']['Id']\n",
    "        print(\"Duplicate detected. Using existing contact with ID:\", existing_contact_id)\n",
    "        contact_id = existing_contact_id\n",
    "\n",
    "# Step 3: Generate a new ticket (case) for the contact\n",
    "new_ticket = {\n",
    "    'Subject': 'Support Needed',\n",
    "    'Description': 'Customer is experiencing issues with the product.',\n",
    "    'Status': 'New',\n",
    "    'Priority': 'High',\n",
    "    'Origin': 'Web',\n",
    "    'ContactId': contact_id,  # Associate the ticket with the created or existing contact\n",
    "    'AccountId': account_id  # Optionally associate the ticket with the account\n",
    "}\n",
    "\n",
    "# Create the ticket\n",
    "ticket_result = sf.Case.create(new_ticket)\n",
    "print(\"Ticket created with ID:\", ticket_result['id'])"
   ]
  }
 ],
 "metadata": {
  "kernelspec": {
   "display_name": ".venv",
   "language": "python",
   "name": "python3"
  },
  "language_info": {
   "codemirror_mode": {
    "name": "ipython",
    "version": 3
   },
   "file_extension": ".py",
   "mimetype": "text/x-python",
   "name": "python",
   "nbconvert_exporter": "python",
   "pygments_lexer": "ipython3",
   "version": "3.10.12"
  }
 },
 "nbformat": 4,
 "nbformat_minor": 2
}
