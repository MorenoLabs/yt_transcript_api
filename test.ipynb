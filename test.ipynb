{
 "cells": [
  {
   "cell_type": "code",
   "execution_count": 15,
   "metadata": {},
   "outputs": [],
   "source": [
    "from fastapi import FastAPI, Depends, HTTPException\n",
    "from pydantic import BaseModel\n",
    "from youtube_transcript_api import YouTubeTranscriptApi\n",
    "from youtube_transcript_api.formatters import TextFormatter\n",
    "import logging\n",
    "\n",
    "app = FastAPI()\n",
    "\n",
    "class TranscribeRequest(BaseModel):\n",
    "    video_url: str\n",
    "    api_key: str\n",
    "\n",
    "def verify_api_key(request: TranscribeRequest):\n",
    "    if request.api_key != \"test\":  # Replace with your actual API key\n",
    "        raise HTTPException(status_code=403, detail=\"Invalid API Key\")\n",
    "\n",
    "@app.get(\"/\")\n",
    "async def read_root():\n",
    "    return {\"message\": \"FastAPI is running\"}\n",
    "\n",
    "@app.post(\"/transcribe\")\n",
    "async def get_videoid(request: TranscribeRequest, verified: None = Depends(verify_api_key)):\n",
    "    video_id = request.video_url.split(\"v=\")[1]\n",
    "    return await root(video_id)\n",
    "\n",
    "async def root(video_id: str):\n",
    "    transcript = YouTubeTranscriptApi.get_transcript(video_id)\n",
    "    logging.info(f\"Transcript for video ID {video_id}: {transcript}\")\n",
    "    formatter = TextFormatter()\n",
    "    text_formatted = formatter.format_transcript(transcript)\n",
    "    return {\"transcript\": text_formatted}"
   ]
  },
  {
   "cell_type": "code",
   "execution_count": 10,
   "metadata": {},
   "outputs": [],
   "source": [
    "import os\n",
    "from dotenv import load_dotenv\n",
    "load_dotenv()\n",
    "from pyairtable import Api\n",
    "api = Api(os.environ['AIRTABLE_API_KEY'])\n",
    "table = api.table('appyl62z9rlWyAxMh', 'tbl9TUFUmn2Y7uo6n')"
   ]
  },
  {
   "cell_type": "code",
   "execution_count": 14,
   "metadata": {},
   "outputs": [
    {
     "name": "stdout",
     "output_type": "stream",
     "text": [
      "{'id': 'recqE7uKfYLoBxJfm', 'createdTime': '2024-07-24T09:24:49.000Z', 'fields': {'Name': 'Dirk Moreno', 'Email': 'dirk@shiprocker.com', 'Active': True, 'Created': '2024-07-24T09:24:49.000Z', 'x-api-key': 'test_api_key', 'History': ['recitlSYUYZ51TzVi']}}\n"
     ]
    }
   ],
   "source": [
    "def get_active_records_with_api_key(api_key_value):\n",
    "    try:\n",
    "        # Fetch all records from the table\n",
    "        all_records = table.all()\n",
    "        \n",
    "        # Filter records where 'Active' is True and 'x-api-key' matches the specific value\n",
    "        filtered_records = [\n",
    "            record for record in all_records\n",
    "            if record['fields'].get('Active') and record['fields'].get('x-api-key') == api_key_value\n",
    "        ]\n",
    "        \n",
    "        return filtered_records\n",
    "\n",
    "    except Exception as e:\n",
    "        print(f\"An error occurred: {e}\")\n",
    "        return []\n",
    "\n",
    "# Example usage\n",
    "specific_api_key = 'test_api_key'\n",
    "filtered_records = get_active_records_with_api_key(specific_api_key)\n",
    "\n",
    "# Print the filtered records\n",
    "for record in filtered_records:\n",
    "    print(record)"
   ]
  }
 ],
 "metadata": {
  "kernelspec": {
   "display_name": ".venv",
   "language": "python",
   "name": "python3"
  },
  "language_info": {
   "codemirror_mode": {
    "name": "ipython",
    "version": 3
   },
   "file_extension": ".py",
   "mimetype": "text/x-python",
   "name": "python",
   "nbconvert_exporter": "python",
   "pygments_lexer": "ipython3",
   "version": "3.10.12"
  }
 },
 "nbformat": 4,
 "nbformat_minor": 2
}
